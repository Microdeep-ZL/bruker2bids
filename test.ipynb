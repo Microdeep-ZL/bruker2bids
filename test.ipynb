{
 "cells": [
  {
   "cell_type": "code",
   "execution_count": 1,
   "metadata": {},
   "outputs": [
    {
     "data": {
      "text/plain": [
       "'{\"1\": 333, \"333\": \";ajdkf\"}'"
      ]
     },
     "execution_count": 1,
     "metadata": {},
     "output_type": "execute_result"
    }
   ],
   "source": [
    "import json\n",
    "json.dumps({1:333,\"333\":\";ajdkf\"})\n",
    "\n",
    "\n"
   ]
  },
  {
   "cell_type": "code",
   "execution_count": 15,
   "metadata": {},
   "outputs": [
    {
     "name": "stdout",
     "output_type": "stream",
     "text": [
      "True\n",
      "True\n",
      "False\n",
      "{'protocol_name': 'T2_TurboRARE\\n', 'scan_name': 'acq-TurboRARE_T2w_0p2_STH0p3 (E16)\\n', 'slice_thick': '0.3\\n'}\n"
     ]
    }
   ],
   "source": [
    "acqp_path=\"/opt/mridata/data/nmrsu/20230303_145030_mrmdPractice2910DREADD_1_1/16/acqp\"\n",
    "params={\n",
    "    \"slice_thick\":\"##$ACQ_slice_thick=\",\n",
    "    \"scan_name\":\"##$ACQ_scan_name=\",\n",
    "    \"protocol_name\":\"##$ACQ_protocol_name=\"\n",
    "}\n",
    "result={}\n",
    "with open(acqp_path) as f:\n",
    "    line = f.readline()\n",
    "    while line:\n",
    "        for (key,value) in params.items():\n",
    "            if line.startswith(value):\n",
    "                print(line.endswith(\")\\n\"))\n",
    "                if line.endswith(\")\\n\"):\n",
    "                    # the next line is the parameter\n",
    "                    result[key]=f.readline().replace(\"<\",\"\").replace(\">\",\"\")\n",
    "                else:\n",
    "                    # the current line is the parameter\n",
    "                    result[key]=line[line.index(\"=\")+1:]\n",
    "        line = f.readline()\n",
    "print(result)"
   ]
  },
  {
   "cell_type": "code",
   "execution_count": 8,
   "metadata": {},
   "outputs": [
    {
     "data": {
      "text/plain": [
       "'0.3'"
      ]
     },
     "execution_count": 8,
     "metadata": {},
     "output_type": "execute_result"
    }
   ],
   "source": [
    "s=\"##$ACQ_slice_thick=0.3\"\n",
    "i=s.index(\"=\")\n",
    "s[i+1:]\n"
   ]
  },
  {
   "cell_type": "code",
   "execution_count": 4,
   "metadata": {},
   "outputs": [
    {
     "data": {
      "text/plain": [
       "'xxxx'"
      ]
     },
     "execution_count": 4,
     "metadata": {},
     "output_type": "execute_result"
    }
   ],
   "source": [
    "\"<xxxx>\".replace(\"<\",\"\").replace(\">\",\"\")\n"
   ]
  },
  {
   "cell_type": "code",
   "execution_count": 3,
   "metadata": {},
   "outputs": [
    {
     "data": {
      "text/plain": [
       "[111]"
      ]
     },
     "execution_count": 3,
     "metadata": {},
     "output_type": "execute_result"
    }
   ],
   "source": [
    "a=[]\n",
    "def xx(x):\n",
    "    x.append(111)\n",
    "xx(a)\n",
    "a\n"
   ]
  },
  {
   "cell_type": "code",
   "execution_count": 2,
   "metadata": {},
   "outputs": [
    {
     "name": "stdout",
     "output_type": "stream",
     "text": [
      "('slice_thick', '##$ACQ_slice_thick=')\n",
      "('scan_name', '##$ACQ_scan_name=')\n"
     ]
    }
   ],
   "source": [
    "params={\n",
    "    \"slice_thick\":\"##$ACQ_slice_thick=\",\n",
    "    \"scan_name\":\"##$ACQ_scan_name=\"\n",
    "}\n",
    "for i in params.items():\n",
    "    print(i)"
   ]
  }
 ],
 "metadata": {
  "kernelspec": {
   "display_name": "base",
   "language": "python",
   "name": "python3"
  },
  "language_info": {
   "codemirror_mode": {
    "name": "ipython",
    "version": 3
   },
   "file_extension": ".py",
   "mimetype": "text/x-python",
   "name": "python",
   "nbconvert_exporter": "python",
   "pygments_lexer": "ipython3",
   "version": "3.10.9"
  },
  "orig_nbformat": 4
 },
 "nbformat": 4,
 "nbformat_minor": 2
}
